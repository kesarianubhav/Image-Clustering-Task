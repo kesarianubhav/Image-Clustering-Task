{
 "cells": [
  {
   "cell_type": "code",
   "execution_count": 1,
   "metadata": {},
   "outputs": [],
   "source": [
    "#My Task was - Unsupervised Clustering of Visually Similar Images using a Neural Network\n"
   ]
  },
  {
   "cell_type": "code",
   "execution_count": null,
   "metadata": {},
   "outputs": [],
   "source": [
    "#My Effort -\n",
    "#To cluster the images , firstly we should be able to extract the features from the Images \n",
    "#There can be various ways to extract the features from the image eg. edge detection , SURF etc ."
   ]
  },
  {
   "cell_type": "code",
   "execution_count": 2,
   "metadata": {},
   "outputs": [],
   "source": [
    "# I have used the pre-trained model of the VGG-16 Convolutional Neural Network for extracting the features \n",
    "# From the (Last -1) layer I am extracting the features and flattening it to become of the shape (1,25088)"
   ]
  },
  {
   "cell_type": "code",
   "execution_count": null,
   "metadata": {},
   "outputs": [],
   "source": [
    "# Now I have fed those flattened features into the clustering algorithm to cluster\n",
    "# Clustering Algorithm Used = K means"
   ]
  },
  {
   "cell_type": "code",
   "execution_count": 3,
   "metadata": {},
   "outputs": [
    {
     "ename": "ModuleNotFoundError",
     "evalue": "No module named 'cv2'",
     "output_type": "error",
     "traceback": [
      "\u001b[0;31m---------------------------------------------------------------------------\u001b[0m",
      "\u001b[0;31mModuleNotFoundError\u001b[0m                       Traceback (most recent call last)",
      "\u001b[0;32m<ipython-input-3-90c72304648c>\u001b[0m in \u001b[0;36m<module>\u001b[0;34m()\u001b[0m\n\u001b[1;32m      4\u001b[0m \u001b[0;32mimport\u001b[0m \u001b[0mmatplotlib\u001b[0m\u001b[0;34m.\u001b[0m\u001b[0mimage\u001b[0m \u001b[0;32mas\u001b[0m \u001b[0mimg\u001b[0m\u001b[0;34m\u001b[0m\u001b[0m\n\u001b[1;32m      5\u001b[0m \u001b[0;32mimport\u001b[0m \u001b[0mmatplotlib\u001b[0m\u001b[0;34m.\u001b[0m\u001b[0mpyplot\u001b[0m \u001b[0;32mas\u001b[0m \u001b[0mplt\u001b[0m\u001b[0;34m\u001b[0m\u001b[0m\n\u001b[0;32m----> 6\u001b[0;31m \u001b[0;32mimport\u001b[0m \u001b[0mos\u001b[0m \u001b[0;34m,\u001b[0m \u001b[0msys\u001b[0m \u001b[0;34m,\u001b[0m\u001b[0mcv2\u001b[0m\u001b[0;34m\u001b[0m\u001b[0m\n\u001b[0m\u001b[1;32m      7\u001b[0m \u001b[0;32mfrom\u001b[0m \u001b[0mPIL\u001b[0m \u001b[0;32mimport\u001b[0m \u001b[0mImage\u001b[0m \u001b[0;32mas\u001b[0m \u001b[0mpimg\u001b[0m\u001b[0;34m\u001b[0m\u001b[0m\n\u001b[1;32m      8\u001b[0m \u001b[0;32mimport\u001b[0m \u001b[0mmatplotlib\u001b[0m\u001b[0;34m.\u001b[0m\u001b[0mpyplot\u001b[0m \u001b[0;32mas\u001b[0m \u001b[0mplt\u001b[0m\u001b[0;34m\u001b[0m\u001b[0m\n",
      "\u001b[0;31mModuleNotFoundError\u001b[0m: No module named 'cv2'"
     ]
    }
   ],
   "source": [
    "import numpy as np\n",
    "#import tensorflow as tf\n",
    "import scipy as sci\n",
    "import matplotlib.image as img\n",
    "import matplotlib.pyplot as plt\n",
    "import os , sys ,cv2\n",
    "from PIL import Image as pimg\n",
    "import matplotlib.pyplot as plt\n",
    "from neupy import algorithms, environment\n",
    "from keras.applications.vgg16 import VGG16\n",
    "from keras.preprocessing import image\n",
    "from keras.applications.vgg16 import preprocess_input\n",
    "from sklearn.cluster import KMeans\n",
    "os.environ['TF_CPP_MIN_LOG_LEVEL'] = '2'\n",
    "train_data=[]\n",
    "missing_file=[]\n",
    "files=[]\n",
    "\n",
    "\n",
    "X_train=[]\n",
    "clusters={}\n",
    "#n=0\n",
    "\n",
    "def file_size(fname):\n",
    "    stat=os.stat(\"f/\"+str(fname))\n",
    "    return stat.st_size\n",
    "\n",
    "\n",
    "def vgg16():\n",
    "    n=0\n",
    "    model = VGG16(weights='imagenet', include_top=False)\n",
    "    images_path = \"../Task/f\"\n",
    "    for f in os.listdir(images_path):\n",
    "        files.append(f)\n",
    "    for img_path in files:\n",
    "        if(file_size(img_path)!=0):\n",
    "            print(str(img_path))\n",
    "            n+=1\n",
    "            print(n)\n",
    "\n",
    "            img = image.load_img(\"f/\"+str(img_path), target_size=(224, 224))\n",
    "            x = image.img_to_array(img)\n",
    "            x = np.expand_dims(x, axis=0)\n",
    "            x = preprocess_input(x)\n",
    "            features = model.predict(x)\n",
    "            #print(features.shape)\n",
    "            a=features.shape[0]\n",
    "            b=features.shape[1]\n",
    "            c=features.shape[2]\n",
    "            d=features.shape[3]\n",
    "            features = np.array(features)\n",
    "            features= features.flatten()\n",
    "            X_train.append(features)\n",
    "            print(features)\n",
    "\n",
    "    #MinMaxScalar(copy = False , feature_range=(0,1))\n",
    "\n",
    "def kmeans():\n",
    "        #print(\"X_train's length=\"+str(len(X_train)))\n",
    "        #print(X_train)\n",
    "        kmeans = KMeans(n_clusters=10, init='k-means++', max_iter=100, n_init=10,tol=1e-6, verbose=1)\n",
    "        kmeans.fit(X_train)\n",
    "        labels=kmeans.predict(X_train)\n",
    "        centroids = kmeans.cluster_centers_\n",
    "        labels = kmeans.labels_\n",
    "\n",
    "        print (\"centroids : \")\n",
    "        #print (centroids)\n",
    "        print (\"labels : \")\n",
    "        #print (labels)\n",
    "        p=dict(zip(files,labels))\n",
    "\n",
    "        for i,j in p.items() :\n",
    "            new_path=str(\"../Task/\"+str(j))\n",
    "            if not os.path.exists(new_path):\n",
    "                os.makedirs(new_path)\n",
    "            img = cv2.imread(\"f/\"+str(i), 1)\n",
    "            cv2.imwrite(os.path.join(new_path , i), img)\n",
    "\n",
    "def som():\n",
    "    input_data = np.array(X_train)\n",
    "    sofmnet = algorithms.SOFM(\n",
    "    n_inputs=25088,\n",
    "    n_outputs=25,\n",
    "\n",
    "    step=0.5,\n",
    "    show_epoch=100,\n",
    "    shuffle_data=True,\n",
    "    verbose=True,\n",
    "\n",
    "    learning_radius=0,\n",
    "    features_grid=(5,5),\n",
    "    )\n",
    "\n",
    "    sofmnet.train(input_data,epochs=100);\n",
    "    plt.plot(input_data.T[0:1, :], input_data.T[1:2, :], 'ko')\n",
    "\n",
    "    print(\"> Start plotting\")\n",
    "    plt.xlim(-1, 1.2)\n",
    "    plt.ylim(-1, 1.2)\n",
    "\n",
    "    plt.plot(sofmnet.weight[0:1, :], sofmnet.weight[1:2, :], 'bx')\n",
    "    plt.show()\n",
    "\n",
    "    for data in input_data:\n",
    "        print(sofmnet.predict(np.reshape(data, (2, 1)).T))\n",
    "\n",
    "if __name__ ==\"__main__\":\n",
    "    #reader()\n",
    "    vgg16();\n",
    "    kmeans();\n",
    "    #som();\n"
   ]
  }
 ],
 "metadata": {
  "kernelspec": {
   "display_name": "Python 3",
   "language": "python",
   "name": "python3"
  },
  "language_info": {
   "codemirror_mode": {
    "name": "ipython",
    "version": 3
   },
   "file_extension": ".py",
   "mimetype": "text/x-python",
   "name": "python",
   "nbconvert_exporter": "python",
   "pygments_lexer": "ipython3",
   "version": "3.6.4"
  }
 },
 "nbformat": 4,
 "nbformat_minor": 2
}
